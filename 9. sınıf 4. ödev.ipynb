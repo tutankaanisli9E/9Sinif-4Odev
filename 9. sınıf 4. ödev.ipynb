Kod yazmak istediğinde + Code tuşuna basman, metin girmek istediğinde + Text düğmesine basman yeterli. Metin yazarken Colab'a ait özel markdown kelime işlemcesini kullanacağız. Bu Github'ın Markdown bazı bakımdan farklı komutlar içerecek.

Örnek olarak matematiksel formüller kollunacağız. Bir satır içeresinde matamatiksel ifade yazmak istersen, matematiksel ifadeyi iki dolar işareti arasına alman gerekir. Örnek olarak  x2  yazmak için yapmamız gereken $x^2$ olarak yazman gerek. Pisagor teoremi örnek olarak  a2+b2=c2  şeklinde verilir. Eğer matematiği iki satır arasında göstermek istiyorsan,

$$

x^2+y^2=c^2

$$

olarak yazabilirsin. Mesela yukarıdaki denklemi şu şekilde yazabiliriz.

x2+y2=c2 
Mesela matematiğin en ünlü formülünü yazalım:

eiπ+1=0 

Bu formülün niçin matematiğin en ünlü formülü olduğunu öğrenmek için buraya bakabilirsin. Tabiki de daha güzel denklemleri de yazabilirsin. Bunun gibi:

(a+b)3=(a+b)2(a+b)=(a2+2ab+b2)(a+b)=(a3+2a2b+ab2)+(a2b+2ab2+b3)=a3+3a2b+3ab2+b3 

Matematik ve fizik formüllerini kullanırken LaTeX matematik yazım kurallarını kullanacağız. Daha fazla bilgi için buraya bakabilirsin.

Ödev 1 Yukarıda verilen bağlantıyı kullanırak LaTeX ile bir fizik veya matematik formülünü aşağıya yaz.

Not: Colab LaTeX'in bütün yazım kurallarını kapsamıyor. Onun için LaTeX'in bütün özelliklerini Colab'da kullanımıyabilirsin. Yukarıdaki bağlantıdaki bazı örnekleri yazamıyabilirsin.

1'den  n 'e kadar sayıların toplamını kısaca  ∑  işareti ile göstereceğim. Örnek olarak 1'den n'e kadar sayıların toplamı

∑i=0ni=n(n+1)2 

formülü ile verilir.

Örnek olarak 1'den 100'ye kadar sayıların toplamını kısaca

∑i=0100i=100(100+1)2 

verilir. Yukarıdaki toplamın cevabı 5050'dir. Yukarıdaki formülü ilkokulda Gauss'un bulduğu söyleniyor. Bunu aşağıdaki kodu kullanarak ispatlıyalım.

[ ]
sum = 0
for i in range(1,101):
  sum = sum +i
print (sum)       
Şimdi de yukarıda yazdığımız kodu bir fonksiyonun içine koyalım.

[ ]
def Gauss(n):
  sum = 0
  for i in range(1,101):
    sum = sum +i
  return sum



[ ]
Gauss(100)

Şimdi de Collatz Sanısı'na (Collatz Conjecture) bakalım. Biz buna sanı diyeceğiz. Matematiksel olarak ispatlanmadı ama şimdiye kadar yanlışlanamadı da. Eğer doğru olduğunu ispatlarsan Matematikteki en büyük ödülü (Field Medal) alacağın kesindir. (Matematikte Nobel ödülü verilmiyor.)

Collatz Sanısı: Verilen bir  n  ile diziye başlayın. Eğer  n  çift ise ikiye bölün, eğer tek sayı ise bu sayıyı 3 ile çarpıp 1 ekleyin. Bu dizi 1'e ulaştığında dizi sonar erer. Hangi  n  ile başlarsak başlayalım, her zaman 1'e ulaşır. Bunu matematiksel ifade olarak yazarsak:

f(n)={n/2,3n+1,eğer n çift ise eğer n is tek ise 

Yukarıdaki ifadeyi kodun içine koyalım:

[ ]
def Collatz(n):
  while n>1:
    if n%2 == 0: # % operatörü bölümden kalan sayıyı verir. Kendin dene istersen
       n = n/2
    else:
      n= 3*n +1
    print(n, end=" ") # end' burada çıktıyı bir sıraya koymak için kullandım. 

[ ]
Collatz(19)

Yukarıdaki fonksiyonu değiştirip, ulaştığı en yüksek sayıyı da bulan bir fonksiyon yazalım. Örnek olarak şöyle bir çıktı versin:

Collatz sanısı 19 için doğrulandı ve bu sınama sonunda ulaşılan en yüksek sayı 88 oldu.

[ ]
[ ]
def Collatz_max(n):
  n_init = n
  max_number = n
  while n>1:
    if n%2 == 0: # % operatörü bölümden kalan sayıyı verir. Kendin dene istersen
       n = n/2
    else:
      n= 3*n +1
    if (n > max_number):
      max_number = n

[ ]
Collatz_max(19)

Double-click (or enter) to edit

Ödev 2 (Çözümlü): Matematikçi Leibniz aşağıdaki formülü vermiştir.

π4=∑k=0∞(−1)k2k+1 
Yukarıdaki formülün açılımı

π4=1−13+15−17+19−… 
şeklinde yazabiliriz. Leibniz_pi(n) isimli bir fonksiyon yazınız ve fonksiyon n'e kadar Leibniz formülünü kullansın. Sonuçta  π 'nin değerini ekrana bassın.

[ ]
def Leibniz_pi(n):
  sum=0
  for i in range(0,n+1):
    sum= sum+(-1)**i/(2*i+1)
  result = sum*4
  print("Pi="+ str(result))

[ ]
Leibniz_pi(1000)

Ödev 3: 3 ve 5'in katları

Eğer 10'dan düşük (10 dahil değil) sayılardan 3 veya 5'in katları olan sayıları dizersek, 3,5,6,9 sayılarını elde ederiz. Bu sayıların toplamı 23 dir.

1000'den düşük olan (1000 dahil değil) 3 veya 5'in katları olan sayıların toplamını yazan bir fonksiyon yazınız.

[110]
def multiples(n):
 
 top=0
n=0
for i in range(0,99):
  n+1==n
  if n%3 == 0 or n%5 == 0
  toplam=toplam + n
print(toplam)

Ödev 4: Çift Fibonacci Sayıları

Fibonaci dizisinde her yeni terim kendinden önceki iki terimin toplamından elde edilir. 1 ve 2 ile başlayarak, ilk 10 terimin Fibonacci dizisi

1,2,3,5,8,13,21,34,55,89,… 
olur.

Yukarıdaki diziyi matematiksel olarak yazarsak

Fn=⎧⎩⎨0,1,Fn−1+Fn−2,n=0n=1n>1 

Fibonacci dizisinde değeri 4,000,000 (4 milyon dahil)'u geçmeyen sayıya kadar çift değerli Fibonacci terimlerinin toplamını bulun.

Yardım: Aşağıdaki Fibonacci_term(n) n'ninci Fibonacci terimini vermektedir. Bu fonksiyonu başka bir fonksiyon içinde kullanarak Fibonacci_evenSum çift sayıların toplamını yapın.

[ ]
def Fibonacci_term(n): 
  if (n == 1):
    return 1
  if (n == 2):
    return 2
  else:
    return Fibonacci_term(n-1) + Fibonacci_term(n-2)
  



[ ]
Fibonacci_term(3)

[ ]

def fibonacci(n):
    top = 0
    a1 = 1
    a2 = 1
    while a1 and a2 <= n:
        if a1 % 2 == 0:
            top += a1
        if a2 % 2 == 0:
            top += a2
…                    top += a1
            break
    if a1 <= n:
        print(str(a1))
    else:
        print(str(a2))
    print(str(top))
[104]
fibonacci(4000000)

[ ]
